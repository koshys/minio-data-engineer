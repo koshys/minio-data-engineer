{
 "cells": [
  {
   "cell_type": "markdown",
   "metadata": {},
   "source": [
    "### Run thorugh Single Node Single Drive MinIO\n",
    "[SingleNode-SingleDrive](https://min.io/docs/minio/container/operations/install-deploy-manage/deploy-minio-single-node-single-drive.html)\n"
   ]
  },
  {
   "cell_type": "code",
   "execution_count": null,
   "metadata": {},
   "outputs": [
    {
     "data": {
      "text/plain": [
       "'\\n\\n# MINIO_ROOT_USER and MINIO_ROOT_PASSWORD sets the root account for the MinIO server.\\n# This user has unrestricted permissions to perform S3 and administrative API operations on any resource in the deployment.\\n# Omit to use the default values \\'minioadmin:minioadmin\\'.\\n# MinIO recommends setting non-default values as a best practice, regardless of environment\\n\\nMINIO_ROOT_USER=myminioadmin\\nMINIO_ROOT_PASSWORD=minio-secret-key-change-me\\n\\n# MINIO_VOLUMES sets the storage volume or path to use for the MinIO server.\\n\\nMINIO_VOLUMES=\"/mnt/data\"\\n\\n# MINIO_OPTS sets any additional commandline options to pass to the MinIO server.\\n# For example, `--console-address :9001` sets the MinIO Console listen port\\nMINIO_OPTS=\"--console-address :9001\"\\n'"
      ]
     },
     "execution_count": 39,
     "metadata": {},
     "output_type": "execute_result"
    }
   ],
   "source": [
    "\"\"\"\n",
    "\n",
    "# MINIO_ROOT_USER and MINIO_ROOT_PASSWORD sets the root account for the MinIO server.\n",
    "# This user has unrestricted permissions to perform S3 and administrative API operations on any resource in the deployment.\n",
    "# Omit to use the default values 'minioadmin:minioadmin'.\n",
    "# MinIO recommends setting non-default values as a best practice, regardless of environment\n",
    "\n",
    "MINIO_ROOT_USER=myminioadmin\n",
    "MINIO_ROOT_PASSWORD=minio-secret-key-change-me\n",
    "\n",
    "# MINIO_VOLUMES sets the storage volume or path to use for the MinIO server.\n",
    "\n",
    "MINIO_VOLUMES=\"/mnt/data\"\n",
    "\n",
    "# MINIO_OPTS sets any additional commandline options to pass to the MinIO server.\n",
    "# For example, `--console-address :9001` sets the MinIO Console listen port\n",
    "MINIO_OPTS=\"--console-address :9001 --address :9000\"\n",
    "\"\"\"\n",
    "# mkdir -p ~/.minio/etc/default/minio\n",
    "# copy the above to ~/.minio/etc/default/minio"
   ]
  },
  {
   "cell_type": "markdown",
   "metadata": {},
   "source": [
    "## Docker CLI"
   ]
  },
  {
   "cell_type": "code",
   "execution_count": null,
   "metadata": {},
   "outputs": [
    {
     "name": "stdout",
     "output_type": "stream",
     "text": [
      "minio-local-snsd\n",
      "minio-local-snsd\n",
      "69507dc580325aefd950c5f4c2fcaec44077b644a393f48150c29d947e24e593\n"
     ]
    }
   ],
   "source": [
    "!docker pull minio/minio:RELEASE.2024-11-07T00-52-20Z\n",
    "!docker container stop minio-local-snsd\n",
    "!docker container rm minio-local-snsd\n",
    "!docker run -dt                                 \\\n",
    "  -p 9000:9000 -p 9001:9001                     \\\n",
    "  -v PATH:/mnt/data                             \\\n",
    "  -v ~/.minio/etc/default/minio:/etc/config.env \\\n",
    "  -e \"MINIO_CONFIG_ENV_FILE=/etc/config.env\"    \\\n",
    "  --name \"minio-local-snsd\"                     \\\n",
    "  minio/minio:RELEASE.2024-11-07T00-52-20Z server --console-address \":9001\"         "
   ]
  },
  {
   "cell_type": "code",
   "execution_count": null,
   "metadata": {},
   "outputs": [
    {
     "name": "stdout",
     "output_type": "stream",
     "text": [
      "\u001b]11;?\u001b\\\u001b[6n\u001b[1mMinIO Object Storage Server\u001b[22m\n",
      "\u001b[34mCopyright:\u001b[0m\u001b[1m 2015-2024 MinIO, Inc.\u001b[22m\n",
      "\u001b[34mLicense:\u001b[0m\u001b[1m GNU AGPLv3 - https://www.gnu.org/licenses/agpl-3.0.html\u001b[22m\n",
      "\u001b[34mVersion:\u001b[0m\u001b[1m RELEASE.2024-11-07T00-52-20Z (go1.23.3 linux/amd64)\u001b[22m\n",
      "\n",
      "\u001b[34mAPI: \u001b[0m\u001b[1mhttp://172.17.0.2:9000  http://127.0.0.1:9000 \u001b[22m\n",
      "\u001b[34m   RootUser: \u001b[0m\u001b[1mmyminioadmin \u001b[22m\n",
      "\u001b[34m   RootPass: \u001b[0m\u001b[1mminio-secret-key-change-me \n",
      "\u001b[22m\n",
      "\u001b[34mWebUI: \u001b[0m\u001b[1mhttp://172.17.0.2:9001 http://127.0.0.1:9001 \u001b[22m\n",
      "\u001b[34m   RootUser: \u001b[0m\u001b[1mmyminioadmin \u001b[22m\n",
      "\u001b[34m   RootPass: \u001b[0m\u001b[1mminio-secret-key-change-me \u001b[22m\n",
      "\u001b[34m\n",
      "CLI: \u001b[0mhttps://min.io/docs/minio/linux/reference/minio-mc.html#quickstart\n",
      "   $ mc alias set 'myminio' 'http://172.17.0.2:9000' 'myminioadmin' 'minio-secret-key-change-me'\n",
      "\u001b[34m\n",
      "Docs: \u001b[0mhttps://docs.min.io\n",
      "Added `dockminsnsd` successfully.\n",
      "●  localhost:9000\n",
      "   Uptime: 6 minutes \n",
      "   Version: 2024-11-07T00:52:20Z\n",
      "   Network: 1/1 OK \n",
      "   Drives: 1/1 OK \n",
      "   Pool: 1\n",
      "\n",
      "┌──────┬────────────────────────┬─────────────────────┬──────────────┐\n",
      "│ Pool │ Drives Usage           │ Erasure stripe size │ Erasure sets │\n",
      "│ 1st  │ 29.8% (total: 239 GiB) │ 1                   │ 1            │\n",
      "└──────┴────────────────────────┴─────────────────────┴──────────────┘\n",
      "\n",
      "2.6 MiB Used, 1 Bucket, 1 Object, 1 Version\n",
      "1 drive online, 0 drives offline, EC:0\n"
     ]
    }
   ],
   "source": [
    "%%bash\n",
    "docker logs minio-local-snsd\n",
    "mc alias set dockminsnsd http://localhost:9000 myminioadmin minio-secret-key-change-me\n",
    "mc admin info dockminsnsd   \n",
    "#!docker container stop minio-local-snsd"
   ]
  },
  {
   "cell_type": "markdown",
   "metadata": {},
   "source": [
    "## Using Docker Compose"
   ]
  },
  {
   "cell_type": "code",
   "execution_count": 60,
   "metadata": {},
   "outputs": [
    {
     "name": "stdout",
     "output_type": "stream",
     "text": [
      "\u001b[1A\u001b[1B\u001b[0G\u001b[?25l[+] Running 0/0\n",
      "\u001b[37m ⠋ Container snsd-minio-local-snsd-dc-1  Stopping                          0.1s\n",
      "\u001b[0m\u001b[?25h\u001b[1A\u001b[1A\u001b[0G\u001b[?25l[+] Running 0/1\n",
      "\u001b[37m ⠙ Container snsd-minio-local-snsd-dc-1  Stopping                          0.2s\n",
      "\u001b[0m\u001b[?25h\u001b[1A\u001b[1A\u001b[0G\u001b[?25l[+] Running 0/1\n",
      "\u001b[37m ⠿ Container snsd-minio-local-snsd-dc-1  Removing                          0.3s\n",
      "\u001b[0m\u001b[?25h\u001b[1A\u001b[1A\u001b[0G\u001b[?25l\u001b[34m[+] Running 1/1\u001b[0m\n",
      "\u001b[34m ⠿ Container snsd-minio-local-snsd-dc-1  Removed                           0.3s\n",
      "\u001b[0m\u001b[37m ⠋ Network snsd_default                  Removin...                        0.1s\n",
      "\u001b[0m\u001b[?25h\u001b[1A\u001b[1A\u001b[1A\u001b[0G\u001b[?25l\u001b[34m[+] Running 2/2\u001b[0m\n",
      "\u001b[34m ⠿ Container snsd-minio-local-snsd-dc-1  Removed                           0.3s\n",
      "\u001b[0m\u001b[34m ⠿ Network snsd_default                  Removed                           0.1s\n",
      "\u001b[0m\u001b[?25h\u001b[1A\u001b[1B\u001b[0G\u001b[?25l[+] Running 0/0\n",
      "\u001b[37m ⠋ Network snsd_default  Creating                                          0.1s\n",
      "\u001b[0m\u001b[?25h\u001b[1A\u001b[1A\u001b[0G\u001b[?25l\u001b[34m[+] Running 1/1\u001b[0m\n",
      "\u001b[34m ⠿ Network snsd_default                  Created                           0.1s\n",
      "\u001b[0m\u001b[37m ⠿ Container snsd-minio-local-snsd-dc-1  Starting                          0.1s\n",
      "\u001b[0m\u001b[?25h\u001b[1A\u001b[1A\u001b[1A\u001b[0G\u001b[?25l[+] Running 1/2\n",
      "\u001b[34m ⠿ Network snsd_default                  Created                           0.1s\n",
      "\u001b[0m\u001b[37m ⠿ Container snsd-minio-local-snsd-dc-1  Starting                          0.2s\n",
      "\u001b[0m\u001b[?25h\u001b[1A\u001b[1A\u001b[1A\u001b[0G\u001b[?25l[+] Running 1/2\n",
      "\u001b[34m ⠿ Network snsd_default                  Created                           0.1s\n",
      "\u001b[0m\u001b[37m ⠿ Container snsd-minio-local-snsd-dc-1  Starting                          0.3s\n",
      "\u001b[0m\u001b[?25h\u001b[1A\u001b[1A\u001b[1A\u001b[0G\u001b[?25l[+] Running 1/2\n",
      "\u001b[34m ⠿ Network snsd_default                  Created                           0.1s\n",
      "\u001b[0m\u001b[37m ⠿ Container snsd-minio-local-snsd-dc-1  Starting                          0.4s\n",
      "\u001b[0m\u001b[?25h\u001b[1A\u001b[1A\u001b[1A\u001b[0G\u001b[?25l[+] Running 1/2\n",
      "\u001b[34m ⠿ Network snsd_default                  Created                           0.1s\n",
      "\u001b[0m\u001b[37m ⠿ Container snsd-minio-local-snsd-dc-1  Starting                          0.5s\n",
      "\u001b[0m\u001b[?25h\u001b[1A\u001b[1A\u001b[1A\u001b[0G\u001b[?25l[+] Running 1/2\n",
      "\u001b[34m ⠿ Network snsd_default                  Created                           0.1s\n",
      "\u001b[0m\u001b[37m ⠿ Container snsd-minio-local-snsd-dc-1  Starting                          0.6s\n",
      "\u001b[0m\u001b[?25h\u001b[1A\u001b[1A\u001b[1A\u001b[0G\u001b[?25l[+] Running 1/2\n",
      "\u001b[34m ⠿ Network snsd_default                  Created                           0.1s\n",
      "\u001b[0m\u001b[37m ⠿ Container snsd-minio-local-snsd-dc-1  Starting                          0.7s\n",
      "\u001b[0m\u001b[?25h\u001b[1A\u001b[1A\u001b[1A\u001b[0G\u001b[?25l\u001b[34m[+] Running 2/2\u001b[0m\n",
      "\u001b[34m ⠿ Network snsd_default                  Created                           0.1s\n",
      "\u001b[0m\u001b[34m ⠿ Container snsd-minio-local-snsd-dc-1  Started                           0.8s\n",
      "\u001b[0m\u001b[?25h\u001b[36msnsd-minio-local-snsd-dc-1  |\u001b[0m MinIO Object Storage Server\n",
      "\u001b[36msnsd-minio-local-snsd-dc-1  |\u001b[0m Copyright: 2015-2024 MinIO, Inc.\n",
      "\u001b[36msnsd-minio-local-snsd-dc-1  |\u001b[0m License: GNU AGPLv3 - https://www.gnu.org/licenses/agpl-3.0.html\n",
      "\u001b[36msnsd-minio-local-snsd-dc-1  |\u001b[0m Version: RELEASE.2024-11-07T00-52-20Z (go1.23.3 linux/amd64)\n",
      "\u001b[36msnsd-minio-local-snsd-dc-1  |\u001b[0m \n",
      "\u001b[36msnsd-minio-local-snsd-dc-1  |\u001b[0m API: http://192.168.16.2:9000  http://127.0.0.1:9000 \n",
      "\u001b[36msnsd-minio-local-snsd-dc-1  |\u001b[0m WebUI: http://192.168.16.2:9003 http://127.0.0.1:9003 \n",
      "\u001b[36msnsd-minio-local-snsd-dc-1  |\u001b[0m \n",
      "\u001b[36msnsd-minio-local-snsd-dc-1  |\u001b[0m Docs: https://docs.min.io\n"
     ]
    }
   ],
   "source": [
    "# using docker compose \n",
    "!docker-compose -f ../../snsd/docker-compose.yml down \n",
    "!docker-compose -f ../../snsd/docker-compose.yml up -d\n",
    "!docker-compose -f ../../snsd/docker-compose.yml logs"
   ]
  },
  {
   "cell_type": "code",
   "execution_count": 63,
   "metadata": {},
   "outputs": [
    {
     "name": "stdout",
     "output_type": "stream",
     "text": [
      "\u001b[1A\u001b[1B\u001b[0G\u001b[?25l[+] Running 0/0\n",
      "\u001b[37m ⠋ Container snsd-minio-local-snsd-dc-1  Stopping                          0.1s\n",
      "\u001b[0m\u001b[?25h\u001b[1A\u001b[1A\u001b[0G\u001b[?25l[+] Running 0/1\n",
      "\u001b[37m ⠙ Container snsd-minio-local-snsd-dc-1  Stopping                          0.2s\n",
      "\u001b[0m\u001b[?25h\u001b[1A\u001b[1A\u001b[0G\u001b[?25l\u001b[34m[+] Running 1/1\u001b[0m\n",
      "\u001b[34m ⠿ Container snsd-minio-local-snsd-dc-1  Removed                           0.3s\n",
      "\u001b[0m\u001b[37m ⠋ Network snsd_default                  Removin...                        0.0s\n",
      "\u001b[0m\u001b[?25h\u001b[1A\u001b[1A\u001b[1A\u001b[0G\u001b[?25l\u001b[34m[+] Running 2/2\u001b[0m\n",
      "\u001b[34m ⠿ Container snsd-minio-local-snsd-dc-1  Removed                           0.3s\n",
      "\u001b[0m\u001b[34m ⠿ Network snsd_default                  Removed                           0.1s\n",
      "\u001b[0m\u001b[?25h"
     ]
    }
   ],
   "source": [
    "# shutting that docker compose down \n",
    "!docker-compose -f ../../snsd/docker-compose.yml down "
   ]
  },
  {
   "cell_type": "code",
   "execution_count": 62,
   "metadata": {},
   "outputs": [
    {
     "name": "stdout",
     "output_type": "stream",
     "text": [
      "\u001b[36msnsd-minio-local-snsd-dc-1  |\u001b[0m MinIO Object Storage Server\n",
      "\u001b[36msnsd-minio-local-snsd-dc-1  |\u001b[0m Copyright: 2015-2024 MinIO, Inc.\n",
      "\u001b[36msnsd-minio-local-snsd-dc-1  |\u001b[0m License: GNU AGPLv3 - https://www.gnu.org/licenses/agpl-3.0.html\n",
      "\u001b[36msnsd-minio-local-snsd-dc-1  |\u001b[0m Version: RELEASE.2024-11-07T00-52-20Z (go1.23.3 linux/amd64)\n",
      "\u001b[36msnsd-minio-local-snsd-dc-1  |\u001b[0m \n",
      "\u001b[36msnsd-minio-local-snsd-dc-1  |\u001b[0m API: http://192.168.16.2:9000  http://127.0.0.1:9000 \n",
      "\u001b[36msnsd-minio-local-snsd-dc-1  |\u001b[0m WebUI: http://192.168.16.2:9003 http://127.0.0.1:9003 \n",
      "\u001b[36msnsd-minio-local-snsd-dc-1  |\u001b[0m \n",
      "\u001b[36msnsd-minio-local-snsd-dc-1  |\u001b[0m Docs: https://docs.min.io\n",
      "snsd-minio-local-snsd-dc-1\n",
      "UID    PID     PPID    C    STIME   TTY   TIME       CMD\n",
      "root   36171   36146   0    02:07   ?     00:00:04   minio server --console-address :9003 /mnt/data   \n",
      "\n"
     ]
    }
   ],
   "source": [
    "!docker-compose -f ../../snsd/docker-compose.yml logs\n",
    "!docker-compose -f ../../snsd/docker-compose.yml  top"
   ]
  },
  {
   "cell_type": "markdown",
   "metadata": {},
   "source": [
    "## Using minikube"
   ]
  },
  {
   "cell_type": "code",
   "execution_count": 49,
   "metadata": {},
   "outputs": [
    {
     "name": "stdout",
     "output_type": "stream",
     "text": [
      "* Deleting \"minikube\" in docker ...\n",
      "* Deleting container \"minikube\" ...\n",
      "* Removing /Users/samsonkoshy/.minikube/machines/minikube ...\n",
      "* Removed all traces of the \"minikube\" cluster.\n",
      "* minikube v1.34.0 on Darwin 14.6.1\n",
      "* Using the docker driver based on user configuration\n",
      "* Using Docker Desktop driver with root privileges\n",
      "* Starting \"minikube\" primary control-plane node in \"minikube\" cluster\n",
      "* Pulling base image v0.0.45 ...\n",
      "* Creating docker container (CPUs=2, Memory=9915MB) ...\n",
      "* Preparing Kubernetes v1.31.0 on Docker 27.2.0 ...\n",
      "  - Generating certificates and keys ...\n",
      "  - Booting up control plane ...\n",
      "  - Configuring RBAC rules ...\n",
      "* Configuring bridge CNI (Container Networking Interface) ...\n",
      "* Verifying Kubernetes components...\n",
      "  - Using image gcr.io/k8s-minikube/storage-provisioner:v5\n",
      "* Enabled addons: storage-provisioner, default-storageclass\n",
      "* Done! kubectl is now configured to use \"minikube\" cluster and \"default\" namespace by default\n",
      "namespace/minio-snsd-ns created\n",
      "deployment.apps/minio-snsd-deployment created\n",
      "service/minio-snsd-service created\n",
      "=======kubectl get deployments -n minio-snsd-ns==============\n",
      "NAME                    READY   UP-TO-DATE   AVAILABLE   AGE\n",
      "minio-snsd-deployment   0/1     0            0           1s\n",
      "=======kubectl get pods -n minio-snsd-ns==============\n"
     ]
    },
    {
     "name": "stderr",
     "output_type": "stream",
     "text": [
      "No resources found in minio-snsd-ns namespace.\n"
     ]
    },
    {
     "name": "stdout",
     "output_type": "stream",
     "text": [
      "=======kubectl get services -n minio-snsd-ns==============\n",
      "NAME                 TYPE       CLUSTER-IP     EXTERNAL-IP   PORT(S)                         AGE\n",
      "minio-snsd-service   NodePort   10.98.77.208   <none>        9002:30002/TCP,9003:30003/TCP   0s\n",
      "=======minikube ip==============\n",
      "192.168.49.2\n"
     ]
    }
   ],
   "source": [
    "%%bash\n",
    "minikube delete\n",
    "minikube start --mount --mount-string=\"/Users/samsonkoshy/.minio/:/mnt/\"\n",
    "kubectl create namespace minio-snsd-ns\n",
    "kubectl apply -f ../../snsd/minio-snsd-deployment.yml\n",
    "kubectl apply -f ../../snsd/minio-snsd-service.yml\n",
    "echo \"=======kubectl get deployments -n minio-snsd-ns==============\"\n",
    "kubectl get deployments -n minio-snsd-ns\n",
    "echo \"=======kubectl get pods -n minio-snsd-ns==============\"\n",
    "kubectl get pods -n minio-snsd-ns\n",
    "echo \"=======kubectl get services -n minio-snsd-ns==============\"\n",
    "kubectl get services -n minio-snsd-ns\n",
    "echo \"=======minikube ip==============\"\n",
    "minikube ip\n"
   ]
  },
  {
   "cell_type": "code",
   "execution_count": null,
   "metadata": {},
   "outputs": [
    {
     "name": "stdout",
     "output_type": "stream",
     "text": [
      "NAMESPACE       NAME                                     READY   STATUS    RESTARTS        AGE\n",
      "kube-system     coredns-6f6b679f8f-jvmc4                 1/1     Running   0               6m8s\n",
      "kube-system     etcd-minikube                            1/1     Running   0               6m13s\n",
      "kube-system     kube-apiserver-minikube                  1/1     Running   0               6m17s\n",
      "kube-system     kube-controller-manager-minikube         1/1     Running   0               6m15s\n",
      "kube-system     kube-proxy-cfdlt                         1/1     Running   0               6m9s\n",
      "kube-system     kube-scheduler-minikube                  1/1     Running   0               6m13s\n",
      "kube-system     storage-provisioner                      1/1     Running   1 (5m38s ago)   6m11s\n",
      "minio-snsd-ns   minio-snsd-deployment-8598d4df6d-2qnkg   1/1     Running   0               6m8s\n",
      "Name:             minio-snsd-deployment-8598d4df6d-2qnkg\n",
      "Namespace:        minio-snsd-ns\n",
      "Priority:         0\n",
      "Service Account:  default\n",
      "Node:             minikube/192.168.49.2\n",
      "Start Time:       Sun, 08 Dec 2024 22:14:28 -0800\n",
      "Labels:           app=minio-snsd-app\n",
      "                  pod-template-hash=8598d4df6d\n",
      "Annotations:      <none>\n",
      "Status:           Running\n",
      "IP:               10.244.0.2\n",
      "IPs:\n",
      "  IP:           10.244.0.2\n",
      "Controlled By:  ReplicaSet/minio-snsd-deployment-8598d4df6d\n",
      "Containers:\n",
      "  minio-snsd-container:\n",
      "    Container ID:  docker://170105d6ad9cdd2a3c54f7cf62d7fb71ada9ac5a21238d951ce3e6085a203fcc\n",
      "    Image:         minio/minio:RELEASE.2024-11-07T00-52-20Z\n",
      "    Image ID:      docker-pullable://minio/minio@sha256:ac591851803a79aee64bc37f66d77c56b0a4b6e12d9e5356380f4105510f2332\n",
      "    Ports:         9002/TCP, 9003/TCP\n",
      "    Host Ports:    0/TCP, 0/TCP\n",
      "    Args:\n",
      "      server\n",
      "      --address\n",
      "      :9002\n",
      "      --console-address\n",
      "      :9003\n",
      "      /mnt/data\n",
      "    State:          Running\n",
      "      Started:      Sun, 08 Dec 2024 22:14:36 -0800\n",
      "    Ready:          True\n",
      "    Restart Count:  0\n",
      "    Readiness:      http-get http://:9002/minio/health/live delay=5s timeout=1s period=10s #success=1 #failure=3\n",
      "    Environment:\n",
      "      MINIO_CONFIG_ENV_FILE:  /etc/config.env\n",
      "    Mounts:\n",
      "      /etc/config.env from config-volume (rw)\n",
      "      /mnt/data/ from data-volume (rw)\n",
      "      /var/run/secrets/kubernetes.io/serviceaccount from kube-api-access-fkhqt (ro)\n",
      "Conditions:\n",
      "  Type                        Status\n",
      "  PodReadyToStartContainers   True \n",
      "  Initialized                 True \n",
      "  Ready                       True \n",
      "  ContainersReady             True \n",
      "  PodScheduled                True \n",
      "Volumes:\n",
      "  data-volume:\n",
      "    Type:          HostPath (bare host directory volume)\n",
      "    Path:          /mnt/mnt/data/\n",
      "    HostPathType:  Directory\n",
      "  config-volume:\n",
      "    Type:          HostPath (bare host directory volume)\n",
      "    Path:          /mnt/etc/default/minio\n",
      "    HostPathType:  File\n",
      "  kube-api-access-fkhqt:\n",
      "    Type:                    Projected (a volume that contains injected data from multiple sources)\n",
      "    TokenExpirationSeconds:  3607\n",
      "    ConfigMapName:           kube-root-ca.crt\n",
      "    ConfigMapOptional:       <nil>\n",
      "    DownwardAPI:             true\n",
      "QoS Class:                   BestEffort\n",
      "Node-Selectors:              <none>\n",
      "Tolerations:                 node.kubernetes.io/not-ready:NoExecute op=Exists for 300s\n",
      "                             node.kubernetes.io/unreachable:NoExecute op=Exists for 300s\n",
      "Events:\n",
      "  Type    Reason     Age   From               Message\n",
      "  ----    ------     ----  ----               -------\n",
      "  Normal  Scheduled  6m9s  default-scheduler  Successfully assigned minio-snsd-ns/minio-snsd-deployment-8598d4df6d-2qnkg to minikube\n",
      "  Normal  Pulling    6m8s  kubelet            Pulling image \"minio/minio:RELEASE.2024-11-07T00-52-20Z\"\n",
      "  Normal  Pulled     6m1s  kubelet            Successfully pulled image \"minio/minio:RELEASE.2024-11-07T00-52-20Z\" in 6.884s (6.884s including waiting). Image size: 165054987 bytes.\n",
      "  Normal  Created    6m1s  kubelet            Created container minio-snsd-container\n",
      "  Normal  Started    6m1s  kubelet            Started container minio-snsd-container\n"
     ]
    }
   ],
   "source": [
    "%%bash\n",
    "minikube kubectl get -- pods -A   \n",
    "podname=`minikube kubectl get -- pods -A   | grep minio-snsd-ns | awk '{print $2}'`\n",
    "minikube kubectl -- describe pod ${podname}  -n minio-snsd-ns\n",
    "\n",
    ": << 'Run_the_port_forwarding_on_a_terminal_each'\n",
    " podname=`minikube kubectl get -- pods -A   | grep minio-snsd-ns | awk '{print $2}'`\n",
    " kubectl port-forward ${podname} 30002:9002 -n minio-snsd-ns \n",
    " podname=`minikube kubectl get -- pods -A   | grep minio-snsd-ns | awk '{print $2}'`\n",
    " kubectl port-forward ${podname} 30003:9003 -n minio-snsd-ns\n",
    "Run_the_port_forwarding_on_a_terminal_each"
   ]
  },
  {
   "cell_type": "code",
   "execution_count": 53,
   "metadata": {},
   "outputs": [
    {
     "name": "stderr",
     "output_type": "stream",
     "text": [
      "! \"minikube\" profile does not exist, trying anyways.\n"
     ]
    },
    {
     "name": "stdout",
     "output_type": "stream",
     "text": [
      "* Removed all traces of the \"minikube\" cluster.\n"
     ]
    }
   ],
   "source": [
    "%%bash\n",
    "minikube delete"
   ]
  }
 ],
 "metadata": {
  "kernelspec": {
   "display_name": ".venv",
   "language": "python",
   "name": "python3"
  },
  "language_info": {
   "codemirror_mode": {
    "name": "ipython",
    "version": 3
   },
   "file_extension": ".py",
   "mimetype": "text/x-python",
   "name": "python",
   "nbconvert_exporter": "python",
   "pygments_lexer": "ipython3",
   "version": "3.12.7"
  }
 },
 "nbformat": 4,
 "nbformat_minor": 2
}
